{
 "cells": [
  {
   "cell_type": "markdown",
   "id": "82c23a09-0e38-4f67-a754-b2f143bb1285",
   "metadata": {},
   "source": [
    "# Basics of PyTorch - Datasets & DataLoaders\n",
    "### Date: 02/20/2025\n",
    "### by Malik N. Mohammed\n",
    "\n",
    "## Objectives\n",
    "- Understand Datasets and DataLoaders in PyTorch\n",
    "- Loading and interating dataset\n",
    "- Train and Test dataset\n",
    "- Custom dataset loader from MNIST\n"
   ]
  },
  {
   "cell_type": "markdown",
   "id": "d235229f-69d7-461d-bec7-00610c4f8aea",
   "metadata": {},
   "source": [
    "PyTorch provides two main data primitives:\n",
    "- `torch.utils.data.DataLoader`\n",
    "  - `DataLoader` wraps an iterable around the `Dataset` for easy access of data\n",
    "- `torch.utils.data.Dataset`\n",
    "  - Allows to use pre-loaded datasets and our custom data.\n"
   ]
  },
  {
   "cell_type": "code",
   "execution_count": 14,
   "id": "083dc680-1cc2-4a3d-9f9d-a66820ec70b8",
   "metadata": {},
   "outputs": [],
   "source": [
    "from torch.utils.data import Dataset\n",
    "from torchvision import datasets\n",
    "from torchvision.transforms import ToTensor\n",
    "import matplotlib.pyplot as plt\n",
    "import torch"
   ]
  },
  {
   "cell_type": "code",
   "execution_count": 5,
   "id": "4d25c7a5-a4a4-4ecc-80b0-9f03001b291e",
   "metadata": {},
   "outputs": [
    {
     "name": "stderr",
     "output_type": "stream",
     "text": [
      "100%|████████████████████████████████████████████████████████████████████████████████████████| 26.4M/26.4M [00:02<00:00, 12.3MB/s]\n",
      "100%|█████████████████████████████████████████████████████████████████████████████████████████| 29.5k/29.5k [00:00<00:00, 272kB/s]\n",
      "100%|████████████████████████████████████████████████████████████████████████████████████████| 4.42M/4.42M [00:00<00:00, 4.70MB/s]\n",
      "100%|████████████████████████████████████████████████████████████████████████████████████████| 5.15k/5.15k [00:00<00:00, 7.70MB/s]\n"
     ]
    }
   ],
   "source": [
    "# Download the dataset and mark it as training dataset and transform to Tensor.\n",
    "training_data = datasets.FashionMNIST(\n",
    "  root='data',\n",
    "  train=True,\n",
    "  download=True,\n",
    "  transform=ToTensor()\n",
    ")"
   ]
  },
  {
   "cell_type": "code",
   "execution_count": 7,
   "id": "45b10e44-3d4b-4abc-9fcc-04a4127a7d43",
   "metadata": {},
   "outputs": [],
   "source": [
    "# Download the dataset and mark it as test dataset and transform it to Tensor.\n",
    "test_data = datasets.FashionMNIST(\n",
    "  root='data',\n",
    "  download=True,\n",
    "  train=False,\n",
    "  transform=ToTensor()\n",
    ")"
   ]
  },
  {
   "cell_type": "code",
   "execution_count": 22,
   "id": "e33090b3-4cfb-4a14-88f4-25524f5a6a8b",
   "metadata": {},
   "outputs": [
    {
     "data": {
      "image/png": "[encoded data removed]",
      "text/plain": [
       "<Figure size 640x480 with 1 Axes>"
      ]
     },
     "metadata": {},
     "output_type": "display_data"
    }
   ],
   "source": [
    "img, label = training_data[torch.randint(len(training_data), size=(1, )).item()]\n",
    "plt.imshow(img.squeeze())\n",
    "plt.show()"
   ]
  },
  {
   "cell_type": "markdown",
   "id": "db90a303-c0aa-4fbb-8f51-c3daef6feee7",
   "metadata": {},
   "source": [
    "## Creating Custom Dataset - MNIST\n",
    "PyTorch allows you to create custom dataset with the Dataset as the interface and requires you to implement three main functions: `__init__`, `__len__`, and `__getitem__`\n",
    "\n",
    "In the next few cells we are going to implement custom dataset for the MNIST."
   ]
  },
  {
   "cell_type": "code",
   "execution_count": 23,
   "id": "3dbb0aa0-f18f-4e37-aa6c-60451416d41e",
   "metadata": {},
   "outputs": [
    {
     "name": "stderr",
     "output_type": "stream",
     "text": [
      "100%|████████████████████████████████████████████████████████████████████████████████████████| 9.91M/9.91M [00:00<00:00, 18.2MB/s]\n",
      "100%|████████████████████████████████████████████████████████████████████████████████████████| 28.9k/28.9k [00:00<00:00, 1.32MB/s]\n",
      "100%|████████████████████████████████████████████████████████████████████████████████████████| 1.65M/1.65M [00:00<00:00, 9.67MB/s]\n",
      "100%|████████████████████████████████████████████████████████████████████████████████████████| 4.54k/4.54k [00:00<00:00, 4.45MB/s]\n"
     ]
    },
    {
     "data": {
      "text/plain": [
       "Dataset MNIST\n",
       "    Number of datapoints: 60000\n",
       "    Root location: data\n",
       "    Split: Train"
      ]
     },
     "execution_count": 23,
     "metadata": {},
     "output_type": "execute_result"
    }
   ],
   "source": [
    "# Download MNIST dataset\n",
    "datasets.MNIST(\n",
    "  'data',\n",
    "  download=True,\n",
    "  train=True\n",
    ")"
   ]
  },
  {
   "cell_type": "code",
   "execution_count": 71,
   "id": "adce49bb-b7f8-48b3-84ec-7f72686e5270",
   "metadata": {},
   "outputs": [
    {
     "name": "stdout",
     "output_type": "stream",
     "text": [
      "total 64M\n",
      "drwxrwxr-x 2 malik malik 4.0K Feb 20 07:48 .\n",
      "drwxrwxr-x 3 malik malik 4.0K Feb 20 07:48 ..\n",
      "-rw-rw-r-- 1 malik malik 7.5M Feb 20 07:48 t10k-images-idx3-ubyte\n",
      "-rw-rw-r-- 1 malik malik 1.6M Feb 20 07:48 t10k-images-idx3-ubyte.gz\n",
      "-rw-rw-r-- 1 malik malik 9.8K Feb 20 07:48 t10k-labels-idx1-ubyte\n",
      "-rw-rw-r-- 1 malik malik 4.5K Feb 20 07:48 t10k-labels-idx1-ubyte.gz\n",
      "-rw-rw-r-- 1 malik malik  45M Feb 20 07:48 train-images-idx3-ubyte\n",
      "-rw-rw-r-- 1 malik malik 9.5M Feb 20 07:48 train-images-idx3-ubyte.gz\n",
      "-rw-rw-r-- 1 malik malik  59K Feb 20 07:48 train-labels-idx1-ubyte\n",
      "-rw-rw-r-- 1 malik malik  29K Feb 20 07:48 train-labels-idx1-ubyte.gz\n"
     ]
    }
   ],
   "source": [
    "!ls -alh data/MNIST/raw"
   ]
  },
  {
   "cell_type": "code",
   "execution_count": 72,
   "id": "dac3d451-f76e-407c-9d4d-9d76fe46c731",
   "metadata": {},
   "outputs": [],
   "source": [
    "# Import numpy and struct\n",
    "import numpy as np\n",
    "import struct"
   ]
  },
  {
   "cell_type": "code",
   "execution_count": 81,
   "id": "8129c5d4-c599-48af-b49e-22522e227451",
   "metadata": {},
   "outputs": [],
   "source": [
    "class CustomMnistDataset(Dataset):\n",
    "    def __init__(self, image_path, label_path, transform=None, target_transform=None):\n",
    "\n",
    "        self.image_path = image_path\n",
    "        self.label_path = label_path\n",
    "        self.images = self.load_images()\n",
    "        self.labels = self.load_labels()\n",
    "            \n",
    "        self.transform = transform\n",
    "        self.target_transform = target_transform\n",
    "\n",
    "    def load_images(self):\n",
    "        \"\"\"\n",
    "        Load images from the dataset into numpy array of shape: (num_images, rows, cols) => (60000, 28, 28)\n",
    "        \"\"\"\n",
    "        \n",
    "        with open(self.image_path, 'rb') as f:\n",
    "            # Read the first 8 bytes of the file header and get file type and num image information.\n",
    "            file_type, num_images = struct.unpack('>II', f.read(8))\n",
    "\n",
    "            if file_type != 2051:\n",
    "                raise ValueError(f'Invalid file type value {file_type} in image file.')\n",
    "\n",
    "            # Read another 8 bytes and get number of rows and columsn.\n",
    "            rows, cols = struct.unpack('>II', f.read(8))\n",
    "\n",
    "            # Read the remaining dataset from buffer and load as numpy array.\n",
    "            images = np.frombuffer(f.read(), dtype=np.uint8)\n",
    "\n",
    "            # Reshape the loaded numpy array to (num_images, rows, cols)\n",
    "            images = images.reshape(num_images, rows, cols)\n",
    "            \n",
    "            return images\n",
    "\n",
    "    def load_labels(self):\n",
    "        \"\"\"\n",
    "        Load labels from the dataset into numpy array of shape: (num_labels, ) => (60000, )\n",
    "        \"\"\"\n",
    "\n",
    "        with open(self.label_path, 'rb') as f:\n",
    "            # Read the first 8 bytes of the file header and get file type and number of labels.\n",
    "            file_type, num_labels = struct.unpack('>II', f.read(8))\n",
    "\n",
    "            if file_type != 2049:\n",
    "                raise ValueError(f'Invalid file type value {file_type} in label file.')\n",
    "\n",
    "            # Read the labels from buffer and load as numpy array of type uint8\n",
    "            return np.frombuffer(f.read(), dtype=np.uint8)\n",
    "            \n",
    "    def __len__(self):\n",
    "        \"\"\"\n",
    "        Return the number of samples in this dataset.\n",
    "        \"\"\"\n",
    "        \n",
    "        return len(self.labels)\n",
    "\n",
    "    def __getitem__(self, idx):\n",
    "        \"\"\"\n",
    "        Return the sample at the specified index along with some transformations to images and labels.\n",
    "        \"\"\"\n",
    "        \n",
    "        image, label = self.images[idx], self.labels[idx]\n",
    "\n",
    "        if self.transform:\n",
    "            image = self.transform(image)\n",
    "\n",
    "        if self.target_transform:\n",
    "            label = self.target_transform(label)\n",
    "\n",
    "        return image, label"
   ]
  },
  {
   "cell_type": "code",
   "execution_count": 82,
   "id": "7cca9f96-0db9-430b-bf85-1ca22174d2d2",
   "metadata": {},
   "outputs": [],
   "source": [
    "custom_data = CustomMnistDataset(\n",
    "    image_path='data/MNIST/raw/train-images-idx3-ubyte', \n",
    "    label_path='data/MNIST/raw/train-labels-idx1-ubyte',\n",
    "    transform=ToTensor(),\n",
    "    target_transform=torch.tensor\n",
    ")"
   ]
  },
  {
   "cell_type": "code",
   "execution_count": 83,
   "id": "89a24d41-13f5-43de-9673-717558e5162f",
   "metadata": {},
   "outputs": [
    {
     "data": {
      "text/plain": [
       "(60000,)"
      ]
     },
     "execution_count": 83,
     "metadata": {},
     "output_type": "execute_result"
    }
   ],
   "source": [
    "custom_data.labels.shape"
   ]
  },
  {
   "cell_type": "code",
   "execution_count": 84,
   "id": "e3edfa7d-638e-4007-8546-5e84e0a0902f",
   "metadata": {},
   "outputs": [
    {
     "data": {
      "image/png": "[encoded data removed]",
      "text/plain": [
       "<Figure size 640x480 with 1 Axes>"
      ]
     },
     "metadata": {},
     "output_type": "display_data"
    },
    {
     "name": "stdout",
     "output_type": "stream",
     "text": [
      "Label: 2\n"
     ]
    }
   ],
   "source": [
    "# Visualizing the random sample from the custom dataset.\n",
    "\n",
    "img, label = custom_data[torch.randint(len(custom_data), size=(1, )).item()]\n",
    "plt.imshow(img.squeeze())\n",
    "plt.show()\n",
    "print(f'Label: {label}')"
   ]
  },
  {
   "cell_type": "markdown",
   "id": "1312e8bd-7f77-49a3-8d42-ae669a82469b",
   "metadata": {},
   "source": [
    "## Iterating through the Dataset with the Dataloader\n",
    "In this sections we will look at how to iterate over the dataset that we just created and iterate over it in batches."
   ]
  },
  {
   "cell_type": "code",
   "execution_count": 103,
   "id": "495ffd29-b798-4e61-94d5-79ee238a2638",
   "metadata": {},
   "outputs": [
    {
     "data": {
      "text/plain": [
       "<torch.utils.data.dataloader.DataLoader at 0x760215915310>"
      ]
     },
     "execution_count": 103,
     "metadata": {},
     "output_type": "execute_result"
    }
   ],
   "source": [
    "from torch.utils.data import DataLoader\n",
    "\n",
    "dataloader = DataLoader(custom_data, batch_size=32, shuffle=True)\n",
    "dataloader"
   ]
  },
  {
   "cell_type": "code",
   "execution_count": 104,
   "id": "dbdcb2f7-4b93-4546-9915-2ed85fbad752",
   "metadata": {},
   "outputs": [],
   "source": [
    "# Get DataLoader iterator.\n",
    "dataloader_iterator = iter(dataloader)"
   ]
  },
  {
   "cell_type": "code",
   "execution_count": 105,
   "id": "3276837f-0dbc-4d29-a3d4-dcae27a832fa",
   "metadata": {},
   "outputs": [
    {
     "data": {
      "text/plain": [
       "<torch.utils.data.dataloader._SingleProcessDataLoaderIter at 0x760215915100>"
      ]
     },
     "execution_count": 105,
     "metadata": {},
     "output_type": "execute_result"
    }
   ],
   "source": [
    "dataloader_iterator"
   ]
  },
  {
   "cell_type": "code",
   "execution_count": 106,
   "id": "749a9323-6514-4de5-b011-246bb9abf277",
   "metadata": {},
   "outputs": [
    {
     "name": "stdout",
     "output_type": "stream",
     "text": [
      "Image batch shape: torch.Size([32, 1, 28, 28])\n",
      "Label batch shape: torch.Size([32])\n"
     ]
    }
   ],
   "source": [
    "image, label = next(dataloader_iterator)\n",
    "\n",
    "print(f'Image batch shape: {image.shape}')\n",
    "print(f'Label batch shape: {label.shape}')"
   ]
  },
  {
   "cell_type": "code",
   "execution_count": 107,
   "id": "2a92ffc2-6e3b-4944-b02c-94326e1b8a78",
   "metadata": {},
   "outputs": [
    {
     "name": "stdout",
     "output_type": "stream",
     "text": [
      "Label: 0\n"
     ]
    },
    {
     "data": {
      "image/png": "[encoded data removed]",
      "text/plain": [
       "<Figure size 640x480 with 1 Axes>"
      ]
     },
     "metadata": {},
     "output_type": "display_data"
    }
   ],
   "source": [
    "# Visualizing 5th image from the current batch\n",
    "\n",
    "print(f'Label: {label[5]}')\n",
    "plt.imshow(image[5].squeeze())\n",
    "plt.show()"
   ]
  },
  {
   "cell_type": "code",
   "execution_count": null,
   "id": "79d36ef9-715d-4001-bebe-65d1adf6b5e2",
   "metadata": {},
   "outputs": [],
   "source": []
  },
  {
   "cell_type": "code",
   "execution_count": null,
   "id": "852fcfbd-c928-4202-9635-9804dc2128a5",
   "metadata": {},
   "outputs": [],
   "source": []
  },
  {
   "cell_type": "code",
   "execution_count": null,
   "id": "1130ab37-31a0-4524-974a-3a635b5cae4b",
   "metadata": {},
   "outputs": [],
   "source": []
  },
  {
   "cell_type": "code",
   "execution_count": null,
   "id": "ac2ea924-7ee6-40a9-b666-bea8b5741c56",
   "metadata": {},
   "outputs": [],
   "source": []
  },
  {
   "cell_type": "code",
   "execution_count": null,
   "id": "395d01c6-a21b-4489-afc7-affe0e85733f",
   "metadata": {},
   "outputs": [],
   "source": []
  }
 ],
 "metadata": {
  "kernelspec": {
   "display_name": "llm-proprietary",
   "language": "python",
   "name": "llm-proprietary"
  },
  "language_info": {
   "codemirror_mode": {
    "name": "ipython",
    "version": 3
   },
   "file_extension": ".py",
   "mimetype": "text/x-python",
   "name": "python",
   "nbconvert_exporter": "python",
   "pygments_lexer": "ipython3",
   "version": "3.12.3"
  }
 },
 "nbformat": 4,
 "nbformat_minor": 5
}
