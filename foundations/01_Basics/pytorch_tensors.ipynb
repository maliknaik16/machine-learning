{
 "cells": [
  {
   "cell_type": "markdown",
   "id": "96485dba-9e88-4623-a84b-7e0b0eae2b2c",
   "metadata": {},
   "source": [
    "# Basics of PyTorch - Tensors\n",
    "### Date: 02/19/2025\n",
    "### by Malik N. Mohammed\n",
    "\n",
    "## Objectives\n",
    "- Understand tensors in PyTorch\n",
    "- Understand all tensor operations\n",
    "- Build a simple model\n"
   ]
  },
  {
   "cell_type": "code",
   "execution_count": 5,
   "id": "17c1fa3e-db80-405b-ab71-c01d6de2d613",
   "metadata": {},
   "outputs": [],
   "source": [
    "import numpy as np\n",
    "import torch\n"
   ]
  },
  {
   "cell_type": "code",
   "execution_count": 2,
   "id": "c14fe451-89bc-4553-9723-bd4d14fab77b",
   "metadata": {},
   "outputs": [
    {
     "data": {
      "text/plain": [
       "device(type='cuda')"
      ]
     },
     "execution_count": 2,
     "metadata": {},
     "output_type": "execute_result"
    }
   ],
   "source": [
    "# Get the current accelerator or cpu\n",
    "device = 'cpu'\n",
    "\n",
    "if torch.accelerator.is_available():\n",
    "  device = torch.accelerator.current_accelerator()\n",
    "\n",
    "device"
   ]
  },
  {
   "cell_type": "markdown",
   "id": "18e694f4-688d-4157-a758-6b96b8aaefda",
   "metadata": {},
   "source": [
    "### Initializing a Tensor\n",
    "Tensors are special data structrues just like arrays and matrices that are generally used to store numerical values for faster computation"
   ]
  },
  {
   "cell_type": "code",
   "execution_count": 4,
   "id": "061203b3-ed11-418f-a205-9dc4bca80163",
   "metadata": {},
   "outputs": [
    {
     "data": {
      "text/plain": [
       "tensor([[1, 2, 3],\n",
       "        [4, 5, 6],\n",
       "        [7, 8, 9]])"
      ]
     },
     "execution_count": 4,
     "metadata": {},
     "output_type": "execute_result"
    }
   ],
   "source": [
    "data = [\n",
    "  [1, 2, 3],\n",
    "  [4, 5, 6],\n",
    "  [7, 8, 9]\n",
    "]\n",
    "\n",
    "data_t = torch.tensor(data)\n",
    "data_t"
   ]
  },
  {
   "cell_type": "code",
   "execution_count": 6,
   "id": "10e3d8fa-87a2-43b6-b1c4-80b3f9e94d5f",
   "metadata": {},
   "outputs": [
    {
     "data": {
      "text/plain": [
       "tensor([[1, 2, 3],\n",
       "        [4, 5, 6],\n",
       "        [7, 8, 9]])"
      ]
     },
     "execution_count": 6,
     "metadata": {},
     "output_type": "execute_result"
    }
   ],
   "source": [
    "# Tensor from NumPy array\n",
    "data_np = np.array(data)\n",
    "data_t = torch.from_numpy(data_np)\n",
    "data_t"
   ]
  },
  {
   "cell_type": "code",
   "execution_count": 9,
   "id": "528613fd-09c7-4967-aef3-72b4572f6895",
   "metadata": {},
   "outputs": [
    {
     "data": {
      "text/plain": [
       "tensor([[1., 1., 1., 1., 1.],\n",
       "        [1., 1., 1., 1., 1.],\n",
       "        [1., 1., 1., 1., 1.],\n",
       "        [1., 1., 1., 1., 1.]])"
      ]
     },
     "execution_count": 9,
     "metadata": {},
     "output_type": "execute_result"
    }
   ],
   "source": [
    "# tensor with 1s\n",
    "ones = torch.ones(size=(4, 5))\n",
    "ones"
   ]
  },
  {
   "cell_type": "code",
   "execution_count": 11,
   "id": "7d71d2ae-727b-4cde-ba5a-75582c22b8d5",
   "metadata": {},
   "outputs": [
    {
     "data": {
      "text/plain": [
       "tensor([[0., 0., 0., 0., 0.],\n",
       "        [0., 0., 0., 0., 0.],\n",
       "        [0., 0., 0., 0., 0.],\n",
       "        [0., 0., 0., 0., 0.]])"
      ]
     },
     "execution_count": 11,
     "metadata": {},
     "output_type": "execute_result"
    }
   ],
   "source": [
    "# tensor with 0s\n",
    "zeros = torch.zeros(size=(4, 5))\n",
    "zeros"
   ]
  },
  {
   "cell_type": "code",
   "execution_count": 14,
   "id": "e3cb191d-610a-4b87-8188-c73ad4495d12",
   "metadata": {
    "scrolled": true
   },
   "outputs": [
    {
     "data": {
      "text/plain": [
       "tensor([[0.9944, 0.4805, 0.5116, 0.1366, 0.4135, 0.4256],\n",
       "        [0.6581, 0.1824, 0.8805, 0.3832, 0.1053, 0.1995],\n",
       "        [0.6167, 0.2553, 0.4288, 0.5260, 0.8189, 0.5808],\n",
       "        [0.3271, 0.8147, 0.1858, 0.2928, 0.9203, 0.2166]])"
      ]
     },
     "execution_count": 14,
     "metadata": {},
     "output_type": "execute_result"
    }
   ],
   "source": [
    "# tensor with random values\n",
    "random = torch.rand(size=(4, 6))\n",
    "random"
   ]
  },
  {
   "cell_type": "code",
   "execution_count": 18,
   "id": "9aefb498-b5c7-46fa-9b1a-5ddc0df3a0b9",
   "metadata": {},
   "outputs": [
    {
     "data": {
      "text/plain": [
       "tensor([[0.9466, 0.5263, 0.4256, 0.8970, 0.4069],\n",
       "        [0.5686, 0.9627, 0.8903, 0.2643, 0.6880],\n",
       "        [0.3930, 0.8626, 0.4903, 0.8606, 0.8294],\n",
       "        [0.2119, 0.7215, 0.1460, 0.0614, 0.9685]])"
      ]
     },
     "execution_count": 18,
     "metadata": {},
     "output_type": "execute_result"
    }
   ],
   "source": [
    "# creating tensor with the properties of another tensor\n",
    "\n",
    "# creates the random tensor with the properties of ones. Other functions: ones_like(), zeroe_\n",
    "rand_like = torch.rand_like(ones)\n",
    "rand_like"
   ]
  },
  {
   "cell_type": "markdown",
   "id": "97b39952-944e-4bb8-9f56-abd17b4dbda0",
   "metadata": {},
   "source": [
    "### Tensor Attributes\n",
    "Tensor has 3 main attributes: shape, datatype, and device on which the tensor is stored."
   ]
  },
  {
   "cell_type": "code",
   "execution_count": 23,
   "id": "15bbd7eb-f1ec-4565-a1ad-cb7a4d9fc4aa",
   "metadata": {},
   "outputs": [
    {
     "name": "stdout",
     "output_type": "stream",
     "text": [
      "Tensor shape: torch.Size([4, 7])\n",
      "Tensor datatype: torch.float32\n",
      "Device where the tensor is stored: cpu\n",
      "Moving data to device...\n",
      "Device where the tensor is stored: cuda:0\n"
     ]
    }
   ],
   "source": [
    "data = torch.rand(4, 7)\n",
    "\n",
    "print(f'Tensor shape: {data.shape}')\n",
    "print(f'Tensor datatype: {data.dtype}')\n",
    "print(f'Device where the tensor is stored: {data.device}')\n",
    "\n",
    "# Moving data to accelerator/gpu if available\n",
    "print('Moving data to accelerator...')\n",
    "data = data.to(device)\n",
    "\n",
    "print(f'Device where the tensor is stored: {data.device}')"
   ]
  },
  {
   "cell_type": "markdown",
   "id": "f6fe1040-95d5-4032-8fe5-3ef28f914976",
   "metadata": {},
   "source": [
    "### Tensor Operations\n",
    "We can perform many tensor operation and some of them are: Matrix-multiplication, dot-product, element-wise product, and more"
   ]
  },
  {
   "cell_type": "code",
   "execution_count": 26,
   "id": "47318be5-11ab-4e45-8bdb-0bde714678ed",
   "metadata": {},
   "outputs": [
    {
     "data": {
      "text/plain": [
       "tensor([[0.7672, 0.4193, 0.1294, 0.1670, 0.9536],\n",
       "        [0.8249, 0.5730, 0.4311, 0.6378, 0.2006],\n",
       "        [0.3999, 0.0119, 0.0198, 0.3398, 0.1882],\n",
       "        [0.1178, 0.0220, 0.1842, 0.0081, 0.8404]])"
      ]
     },
     "execution_count": 26,
     "metadata": {},
     "output_type": "execute_result"
    }
   ],
   "source": [
    "# Slicing, indexing and updating values\n",
    "tensor = torch.rand(size=(4, 5))\n",
    "tensor"
   ]
  },
  {
   "cell_type": "code",
   "execution_count": 28,
   "id": "82b22d31-8e33-42bb-ab64-219c1e675961",
   "metadata": {},
   "outputs": [
    {
     "data": {
      "text/plain": [
       "tensor([[0.7672, 0.4193],\n",
       "        [0.8249, 0.5730],\n",
       "        [0.3999, 0.0119],\n",
       "        [0.1178, 0.0220]])"
      ]
     },
     "execution_count": 28,
     "metadata": {},
     "output_type": "execute_result"
    }
   ],
   "source": [
    "# Slicing\n",
    "tensor[:, :2] # All rows and first two columns"
   ]
  },
  {
   "cell_type": "code",
   "execution_count": 32,
   "id": "65f5ef9b-869a-46ab-a8f1-9a6c80afe010",
   "metadata": {},
   "outputs": [
    {
     "data": {
      "text/plain": [
       "tensor([0.9536, 0.2006, 0.1882, 0.8404])"
      ]
     },
     "execution_count": 32,
     "metadata": {},
     "output_type": "execute_result"
    }
   ],
   "source": [
    "tensor[:, -1] # tensor[..., -1] - select last column of the tensor"
   ]
  },
  {
   "cell_type": "code",
   "execution_count": 34,
   "id": "2a844bd5-654f-437a-ad22-50c199478cf7",
   "metadata": {},
   "outputs": [
    {
     "data": {
      "text/plain": [
       "tensor([[0.7672, 0.4193, 0.1294, 0.1670, 0.0000],\n",
       "        [0.8249, 0.5730, 0.4311, 0.6378, 0.0000],\n",
       "        [0.3999, 0.0119, 0.0198, 0.3398, 0.0000],\n",
       "        [0.1178, 0.0220, 0.1842, 0.0081, 0.8404]])"
      ]
     },
     "execution_count": 34,
     "metadata": {},
     "output_type": "execute_result"
    }
   ],
   "source": [
    "# Update the values of the last column's first 3 rows\n",
    "tensor[:3, -1] = 0\n",
    "tensor"
   ]
  },
  {
   "cell_type": "markdown",
   "id": "6414d1c5-e0ba-412f-851c-228ed2dde8f3",
   "metadata": {},
   "source": [
    "#### Joining Tensors"
   ]
  },
  {
   "cell_type": "code",
   "execution_count": 45,
   "id": "b119fa46-e8af-4484-a5ae-b7203e3ce0bb",
   "metadata": {},
   "outputs": [
    {
     "data": {
      "text/plain": [
       "tensor([[[0.7253, 0.4390, 0.1694, 0.1663],\n",
       "         [0.7610, 0.4547, 0.9777, 0.4407],\n",
       "         [0.0190, 0.2334, 0.3774, 0.3818]],\n",
       "\n",
       "        [[0.3977, 0.4764, 0.2618, 0.5655],\n",
       "         [0.7888, 0.4425, 0.7957, 0.9975],\n",
       "         [0.4069, 0.2623, 0.6606, 0.6108]]])"
      ]
     },
     "execution_count": 45,
     "metadata": {},
     "output_type": "execute_result"
    }
   ],
   "source": [
    "t1 = torch.rand(2, 3, 4)\n",
    "t1"
   ]
  },
  {
   "cell_type": "code",
   "execution_count": 48,
   "id": "2ff014a3-2568-49c9-94c5-f028bc046822",
   "metadata": {},
   "outputs": [
    {
     "data": {
      "text/plain": [
       "tensor([[[0.9549, 0.7694, 0.6740, 0.6639],\n",
       "         [0.4950, 0.0730, 0.3828, 0.9687]],\n",
       "\n",
       "        [[0.2456, 0.9887, 0.0289, 0.1278],\n",
       "         [0.1235, 0.1288, 0.5963, 0.1524]]])"
      ]
     },
     "execution_count": 48,
     "metadata": {},
     "output_type": "execute_result"
    }
   ],
   "source": [
    "t2 = torch.rand(2, 2, 4)\n",
    "t2"
   ]
  },
  {
   "cell_type": "code",
   "execution_count": 51,
   "id": "7f67489e-4c44-4ca5-a650-1f72b73bf280",
   "metadata": {},
   "outputs": [
    {
     "data": {
      "text/plain": [
       "tensor([[[0.7253, 0.4390, 0.1694, 0.1663],\n",
       "         [0.7610, 0.4547, 0.9777, 0.4407],\n",
       "         [0.0190, 0.2334, 0.3774, 0.3818],\n",
       "         [0.9549, 0.7694, 0.6740, 0.6639],\n",
       "         [0.4950, 0.0730, 0.3828, 0.9687]],\n",
       "\n",
       "        [[0.3977, 0.4764, 0.2618, 0.5655],\n",
       "         [0.7888, 0.4425, 0.7957, 0.9975],\n",
       "         [0.4069, 0.2623, 0.6606, 0.6108],\n",
       "         [0.2456, 0.9887, 0.0289, 0.1278],\n",
       "         [0.1235, 0.1288, 0.5963, 0.1524]]])"
      ]
     },
     "execution_count": 51,
     "metadata": {},
     "output_type": "execute_result"
    }
   ],
   "source": [
    "# Concatenates tensors along a given dimension (0-indexed).\n",
    "torch.cat((t1, t2), dim=1)"
   ]
  },
  {
   "cell_type": "code",
   "execution_count": 57,
   "id": "16e9e504-2d75-48ca-8602-da52d0c038af",
   "metadata": {},
   "outputs": [
    {
     "data": {
      "text/plain": [
       "tensor([[0.6407, 0.3200, 0.0573],\n",
       "        [0.9971, 0.9268, 0.8519]])"
      ]
     },
     "execution_count": 57,
     "metadata": {},
     "output_type": "execute_result"
    }
   ],
   "source": [
    "x = torch.rand(size=(2, 3))\n",
    "x"
   ]
  },
  {
   "cell_type": "code",
   "execution_count": 58,
   "id": "d610d23d-1936-4e84-b13d-c15865d509fb",
   "metadata": {},
   "outputs": [
    {
     "data": {
      "text/plain": [
       "tensor([[[0.6407, 0.3200, 0.0573],\n",
       "         [0.9971, 0.9268, 0.8519]],\n",
       "\n",
       "        [[0.6407, 0.3200, 0.0573],\n",
       "         [0.9971, 0.9268, 0.8519]]])"
      ]
     },
     "execution_count": 58,
     "metadata": {},
     "output_type": "execute_result"
    }
   ],
   "source": [
    "# Stacks the tensors along a given index (adds new dimension)\n",
    "torch.stack((x, x), dim=0)"
   ]
  },
  {
   "cell_type": "code",
   "execution_count": 62,
   "id": "502cd661-d200-4732-bdc3-02df0c3b0b9c",
   "metadata": {},
   "outputs": [
    {
     "data": {
      "text/plain": [
       "tensor([[[0.6407, 0.6407],\n",
       "         [0.3200, 0.3200],\n",
       "         [0.0573, 0.0573]],\n",
       "\n",
       "        [[0.9971, 0.9971],\n",
       "         [0.9268, 0.9268],\n",
       "         [0.8519, 0.8519]]])"
      ]
     },
     "execution_count": 62,
     "metadata": {},
     "output_type": "execute_result"
    }
   ],
   "source": [
    "torch.stack((x, x), dim=-1)"
   ]
  },
  {
   "cell_type": "markdown",
   "id": "6efc88a4-a5b3-4918-8f8d-6c23957581d3",
   "metadata": {},
   "source": [
    "#### Tensor Arithematic"
   ]
  },
  {
   "cell_type": "code",
   "execution_count": 66,
   "id": "0e82a7cd-e58a-4872-9aea-e1d10ea737ce",
   "metadata": {},
   "outputs": [
    {
     "data": {
      "text/plain": [
       "tensor([[0.4011, 0.3317, 0.6553, 0.2672],\n",
       "        [0.8319, 0.0845, 0.4344, 0.9573],\n",
       "        [0.7267, 0.0357, 0.7715, 0.8907]], device='cuda:0')"
      ]
     },
     "execution_count": 66,
     "metadata": {},
     "output_type": "execute_result"
    }
   ],
   "source": [
    "tensor = torch.rand(size=(3, 4)).to(device)\n",
    "tensor"
   ]
  },
  {
   "cell_type": "code",
   "execution_count": 67,
   "id": "abf23da3-98cf-4afc-b936-752f7d02a3eb",
   "metadata": {},
   "outputs": [
    {
     "data": {
      "text/plain": [
       "tensor([[0.7717, 0.9021, 1.0468],\n",
       "        [0.9021, 1.8042, 1.7953],\n",
       "        [1.0468, 1.7953, 1.9179]], device='cuda:0')"
      ]
     },
     "execution_count": 67,
     "metadata": {},
     "output_type": "execute_result"
    }
   ],
   "source": [
    "# Matrix Multiplication\n",
    "\n",
    "y1 = tensor @ tensor.T # (3, 4) * (4, 3) => (3, 3)\n",
    "y1"
   ]
  },
  {
   "cell_type": "code",
   "execution_count": 69,
   "id": "03f964cc-9be5-4ffd-b9b4-a2565bd56c3e",
   "metadata": {},
   "outputs": [
    {
     "data": {
      "text/plain": [
       "tensor([[0.7717, 0.9021, 1.0468],\n",
       "        [0.9021, 1.8042, 1.7953],\n",
       "        [1.0468, 1.7953, 1.9179]], device='cuda:0')"
      ]
     },
     "execution_count": 69,
     "metadata": {},
     "output_type": "execute_result"
    }
   ],
   "source": [
    "# another way\n",
    "y2 = torch.matmul(tensor, tensor.T)\n",
    "y2"
   ]
  },
  {
   "cell_type": "code",
   "execution_count": 72,
   "id": "803103ed-90d3-48cc-bf31-f5fd09cf8ad0",
   "metadata": {},
   "outputs": [
    {
     "data": {
      "text/plain": [
       "tensor([[0.1608, 0.1101, 0.4294, 0.0714],\n",
       "        [0.6920, 0.0071, 0.1887, 0.9163],\n",
       "        [0.5282, 0.0013, 0.5952, 0.7933]], device='cuda:0')"
      ]
     },
     "execution_count": 72,
     "metadata": {},
     "output_type": "execute_result"
    }
   ],
   "source": [
    "# Element-wise product\n",
    "z1 = tensor * tensor # or, tensor.mul(tensor)\n",
    "z1"
   ]
  },
  {
   "cell_type": "code",
   "execution_count": 73,
   "id": "3e1e6428-350e-4394-b4fa-f4ba258b0c01",
   "metadata": {},
   "outputs": [
    {
     "data": {
      "text/plain": [
       "tensor([[0.1608, 0.1101, 0.4294, 0.0714],\n",
       "        [0.6920, 0.0071, 0.1887, 0.9163],\n",
       "        [0.5282, 0.0013, 0.5952, 0.7933]], device='cuda:0')"
      ]
     },
     "execution_count": 73,
     "metadata": {},
     "output_type": "execute_result"
    }
   ],
   "source": [
    "tensor.mul(tensor)"
   ]
  },
  {
   "cell_type": "code",
   "execution_count": 81,
   "id": "dba73403-72d2-4358-ba5f-81f6b78e7c5a",
   "metadata": {},
   "outputs": [
    {
     "data": {
      "text/plain": [
       "tensor([[6., 6., 7., 6.],\n",
       "        [6., 6., 7., 6.],\n",
       "        [6., 6., 7., 6.],\n",
       "        [6., 6., 7., 6.]])"
      ]
     },
     "execution_count": 81,
     "metadata": {},
     "output_type": "execute_result"
    }
   ],
   "source": [
    "# Tensor addition.\n",
    "t = torch.ones(size=(4, 4))\n",
    "t[:, 2] = 2\n",
    "t.add(5) # or, 5 + t"
   ]
  },
  {
   "cell_type": "code",
   "execution_count": 86,
   "id": "e2c52e63-4278-47ac-9a2c-595a03649bdc",
   "metadata": {},
   "outputs": [
    {
     "data": {
      "text/plain": [
       "100.0"
      ]
     },
     "execution_count": 86,
     "metadata": {},
     "output_type": "execute_result"
    }
   ],
   "source": [
    "# Sum of all the elements of the tensor as a single-value\n",
    "t.add(5).sum().item()"
   ]
  },
  {
   "cell_type": "code",
   "execution_count": 100,
   "id": "9cb77134-b0c2-443a-8692-e19488ae2ca9",
   "metadata": {},
   "outputs": [
    {
     "data": {
      "text/plain": [
       "tensor([1., 1., 1.])"
      ]
     },
     "execution_count": 100,
     "metadata": {},
     "output_type": "execute_result"
    }
   ],
   "source": [
    "# Dot product (a, b)\n",
    "#   result = sum(ai * bi)\n",
    "t1 = torch.ones(3)\n",
    "t1"
   ]
  },
  {
   "cell_type": "code",
   "execution_count": 98,
   "id": "08ca7108-e380-46ec-9e04-d0a6a216ba69",
   "metadata": {},
   "outputs": [
    {
     "data": {
      "text/plain": [
       "tensor([1., 1., 1.])"
      ]
     },
     "execution_count": 98,
     "metadata": {},
     "output_type": "execute_result"
    }
   ],
   "source": [
    "t2 = torch.ones(3)\n",
    "t2"
   ]
  },
  {
   "cell_type": "code",
   "execution_count": 101,
   "id": "1586aa70-3491-4070-8bc9-2b260ba7cddd",
   "metadata": {},
   "outputs": [
    {
     "data": {
      "text/plain": [
       "tensor(3.)"
      ]
     },
     "execution_count": 101,
     "metadata": {},
     "output_type": "execute_result"
    }
   ],
   "source": [
    "t1.dot(t2) # Returns a scalar value."
   ]
  },
  {
   "cell_type": "code",
   "execution_count": 102,
   "id": "79f8a37c-9cdf-457f-9a19-d5d65faa8cf1",
   "metadata": {},
   "outputs": [
    {
     "name": "stdout",
     "output_type": "stream",
     "text": [
      "tensor([[ 4,  5,  6],\n",
      "        [ 8, 10, 12],\n",
      "        [12, 15, 18]])\n"
     ]
    }
   ],
   "source": [
    "a = torch.tensor([1, 2, 3])  # Shape: (3,)\n",
    "b = torch.tensor([4, 5, 6])  # Shape: (3,)\n",
    "\n",
    "outer = torch.ger(a, b)  # Equivalent to a[:, None] * b[None, :]\n",
    "print(outer)\n"
   ]
  },
  {
   "cell_type": "code",
   "execution_count": 114,
   "id": "1a19c99a-8a87-4345-8c65-1875db9a85b4",
   "metadata": {},
   "outputs": [
    {
     "data": {
      "text/plain": [
       "array([1., 1., 1., 1., 1.])"
      ]
     },
     "execution_count": 114,
     "metadata": {},
     "output_type": "execute_result"
    }
   ],
   "source": [
    "# Bridge with NumPy\n",
    "\n",
    "n = np.ones(5)\n",
    "n"
   ]
  },
  {
   "cell_type": "code",
   "execution_count": 115,
   "id": "7b99bab0-e72a-4899-aafa-e8f13f674cce",
   "metadata": {},
   "outputs": [
    {
     "data": {
      "text/plain": [
       "tensor([1., 1., 1., 1., 1.], dtype=torch.float64)"
      ]
     },
     "execution_count": 115,
     "metadata": {},
     "output_type": "execute_result"
    }
   ],
   "source": [
    "t = torch.from_numpy(n)\n",
    "t"
   ]
  },
  {
   "cell_type": "code",
   "execution_count": 117,
   "id": "e172e349-49ca-4025-9099-259c12d8e215",
   "metadata": {},
   "outputs": [
    {
     "data": {
      "text/plain": [
       "tensor([5., 5., 5., 5., 5.], dtype=torch.float64)"
      ]
     },
     "execution_count": 117,
     "metadata": {},
     "output_type": "execute_result"
    }
   ],
   "source": [
    "# Change in NumPy array reflects on Tensor.\n",
    "np.add(n, 2, out=n)\n",
    "t"
   ]
  },
  {
   "cell_type": "code",
   "execution_count": 118,
   "id": "9fad9aa7-a8a4-4f8e-850f-3b8a57e11fb0",
   "metadata": {},
   "outputs": [
    {
     "data": {
      "text/plain": [
       "array([5., 5., 5., 5., 5.])"
      ]
     },
     "execution_count": 118,
     "metadata": {},
     "output_type": "execute_result"
    }
   ],
   "source": [
    "# Get the numpy from tensor\n",
    "t.numpy()"
   ]
  },
  {
   "cell_type": "code",
   "execution_count": null,
   "id": "c901a1e8-affe-4545-b1c3-59d1b1e882df",
   "metadata": {},
   "outputs": [],
   "source": []
  }
 ],
 "metadata": {
  "kernelspec": {
   "display_name": "llm-proprietary",
   "language": "python",
   "name": "llm-proprietary"
  },
  "language_info": {
   "codemirror_mode": {
    "name": "ipython",
    "version": 3
   },
   "file_extension": ".py",
   "mimetype": "text/x-python",
   "name": "python",
   "nbconvert_exporter": "python",
   "pygments_lexer": "ipython3",
   "version": "3.12.3"
  }
 },
 "nbformat": 4,
 "nbformat_minor": 5
}
